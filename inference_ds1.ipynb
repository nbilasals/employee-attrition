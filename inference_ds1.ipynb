{
  "nbformat": 4,
  "nbformat_minor": 0,
  "metadata": {
    "colab": {
      "provenance": []
    },
    "kernelspec": {
      "name": "python3",
      "display_name": "Python 3"
    },
    "language_info": {
      "name": "python"
    }
  },
  "cells": [
    {
      "cell_type": "code",
      "execution_count": 1,
      "metadata": {
        "id": "gXnIAyRMItE9"
      },
      "outputs": [],
      "source": [
        "import joblib\n",
        "import pandas as pd\n",
        "\n",
        "# Load model yang udah disimpan\n",
        "model = joblib.load('xgb_model.pkl')"
      ]
    },
    {
      "cell_type": "code",
      "source": [
        "# Data baru\n",
        "new_data = pd.DataFrame([{\n",
        "    'Age': -0.005929,\n",
        "    'BusinessTravel': 2,\n",
        "    'DailyRate': 0.811829,\n",
        "    'Department': 1,\n",
        "    'DistanceFromHome': 0.251560,\n",
        "    'Education': 2,\n",
        "    'EducationField': 3,\n",
        "    'EnvironmentSatisfaction': 1,\n",
        "    'Gender': 0,\n",
        "    'HourlyRate': -0.228580,\n",
        "    'PerformanceRating': 3,\n",
        "    'RelationshipSatisfaction': 1,\n",
        "    'StockOptionLevel': 0,\n",
        "    'TotalWorkingYears': 0.444831,\n",
        "    'TrainingTimesLastYear': -0.590885,\n",
        "    'WorkLifeBalance': 1,\n",
        "    'YearsAtCompany': -0.968534,\n",
        "    'YearsInCurrentRole': -1.178416,\n",
        "    'YearsSinceLastPromotion': -0.674714,\n",
        "    'YearsWithCurrManager': -1.15160\n",
        "}])\n",
        "\n",
        "# Get the feature names from the model\n",
        "feature_names = model.feature_names_in_\n",
        "\n",
        "# Add missing columns and fill with 0 (adjust as needed)\n",
        "for feature in feature_names:\n",
        "    if feature not in new_data.columns:\n",
        "        new_data[feature] = 0  # Or another appropriate value\n",
        "\n",
        "# Reorder columns to match the model's expected order\n",
        "new_data = new_data[feature_names]\n",
        "\n",
        "# Prediksi\n",
        "prediction = model.predict(new_data)\n",
        "\n",
        "# Print hasil prediksi\n",
        "print(\"Predicted Attrition:\", prediction[0])  # 0 = Tidak Resign, 1 = Resign"
      ],
      "metadata": {
        "colab": {
          "base_uri": "https://localhost:8080/"
        },
        "id": "JHUqzFh9I1D5",
        "outputId": "a5e93b46-b8ae-4ff7-ef2d-11072cebbd91"
      },
      "execution_count": 4,
      "outputs": [
        {
          "output_type": "stream",
          "name": "stdout",
          "text": [
            "Predicted Attrition: 1\n"
          ]
        }
      ]
    }
  ]
}